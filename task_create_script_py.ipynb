{
  "nbformat": 4,
  "nbformat_minor": 0,
  "metadata": {
    "colab": {
      "provenance": [],
      "authorship_tag": "ABX9TyNGctD3VdE/uApd2tGi9Hb9",
      "include_colab_link": true
    },
    "kernelspec": {
      "name": "python3",
      "display_name": "Python 3"
    },
    "language_info": {
      "name": "python"
    }
  },
  "cells": [
    {
      "cell_type": "markdown",
      "metadata": {
        "id": "view-in-github",
        "colab_type": "text"
      },
      "source": [
        "<a href=\"https://colab.research.google.com/github/Onoruoiza514/Task-reading-project-/blob/main/task_create_script_py.ipynb\" target=\"_parent\"><img src=\"https://colab.research.google.com/assets/colab-badge.svg\" alt=\"Open In Colab\"/></a>"
      ]
    },
    {
      "cell_type": "code",
      "execution_count": null,
      "metadata": {
        "colab": {
          "base_uri": "https://localhost:8080/",
          "height": 34
        },
        "id": "S6F7uJs7MzpY",
        "outputId": "fd31422e-8f15-4bf3-cf6b-76bd79da215b"
      },
      "outputs": [
        {
          "output_type": "stream",
          "name": "stdout",
          "text": [
            "The test task files tasks.csv created successfully\n"
          ]
        },
        {
          "output_type": "display_data",
          "data": {
            "text/plain": [
              "<IPython.core.display.Javascript object>"
            ],
            "application/javascript": [
              "\n",
              "    async function download(id, filename, size) {\n",
              "      if (!google.colab.kernel.accessAllowed) {\n",
              "        return;\n",
              "      }\n",
              "      const div = document.createElement('div');\n",
              "      const label = document.createElement('label');\n",
              "      label.textContent = `Downloading \"${filename}\": `;\n",
              "      div.appendChild(label);\n",
              "      const progress = document.createElement('progress');\n",
              "      progress.max = size;\n",
              "      div.appendChild(progress);\n",
              "      document.body.appendChild(div);\n",
              "\n",
              "      const buffers = [];\n",
              "      let downloaded = 0;\n",
              "\n",
              "      const channel = await google.colab.kernel.comms.open(id);\n",
              "      // Send a message to notify the kernel that we're ready.\n",
              "      channel.send({})\n",
              "\n",
              "      for await (const message of channel.messages) {\n",
              "        // Send a message to notify the kernel that we're ready.\n",
              "        channel.send({})\n",
              "        if (message.buffers) {\n",
              "          for (const buffer of message.buffers) {\n",
              "            buffers.push(buffer);\n",
              "            downloaded += buffer.byteLength;\n",
              "            progress.value = downloaded;\n",
              "          }\n",
              "        }\n",
              "      }\n",
              "      const blob = new Blob(buffers, {type: 'application/binary'});\n",
              "      const a = document.createElement('a');\n",
              "      a.href = window.URL.createObjectURL(blob);\n",
              "      a.download = filename;\n",
              "      div.appendChild(a);\n",
              "      a.click();\n",
              "      div.remove();\n",
              "    }\n",
              "  "
            ]
          },
          "metadata": {}
        },
        {
          "output_type": "display_data",
          "data": {
            "text/plain": [
              "<IPython.core.display.Javascript object>"
            ],
            "application/javascript": [
              "download(\"download_13ad49dc-cb30-4914-a58a-773f1ec9c183\", \"tasks.csv\", 321)"
            ]
          },
          "metadata": {}
        }
      ],
      "source": [
        "import csv\n",
        "from datetime import datetime,timedelta\n",
        "from google.colab import files\n",
        "\n",
        "#Initiaize the file name that would be holding our tasks\n",
        "file_name = \"tasks.csv\"\n",
        "\n",
        "#Create imaginary tasks\n",
        "tasks = [\n",
        "      {\"Task Name\": \"Submit Assignment\", \"Deadline\": (datetime.now() + timedelta(hours=2)).strftime(\"%Y-%m-%d %H:%M\"), \"Email\": \"ahmadtijani735@gmail.com\", \"Status\": \"Pending\"},\n",
        "          {\"Task Name\": \"Renew Subscription\", \"Deadline\": (datetime.now() + timedelta(hours=5)).strftime(\"%Y-%m-%d %H:%M\"), \"Email\": \"nomanazmarlianz@gmail.com\", \"Status\": \"Pending\"},\n",
        "              {\"Task Name\": \"Prepare Presentation\", \"Deadline\": (datetime.now() + timedelta(days=1)).strftime(\"%Y-%m-%d %H:%M\"), \"Email\": \"abdulonoruoiza410@gmail.com\", \"Status\": \"Pending\"},\n",
        "                  {\"Task Name\": \"Pay Electricity Bill\", \"Deadline\": (datetime.now() + timedelta(days=2)).strftime(\"%Y-%m-%d %H:%M\"), \"Email\": \"tijanijelilat56@gmail.com\", \"Status\": \"Pending\"}\n",
        "                  ]\n",
        "\n",
        "#Create file and as well write tasks to it\n",
        "\n",
        "with open(file_name, mode='w', newline='') as our_file:\n",
        "    writer = csv.DictWriter(our_file , fieldnames = [\"Task Name\", \"Deadline\", \"Email\", \"Status\"])\n",
        "    writer.writeheader()\n",
        "    writer.writerows(tasks)\n",
        "\n",
        "print(f\"The test task files {file_name} created successfully\")\n",
        "\n",
        "#Lets download the created file to our local device\n",
        "files.download(file_name)"
      ]
    }
  ]
}