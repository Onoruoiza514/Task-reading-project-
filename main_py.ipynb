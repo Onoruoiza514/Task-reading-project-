{
  "nbformat": 4,
  "nbformat_minor": 0,
  "metadata": {
    "colab": {
      "provenance": [],
      "authorship_tag": "ABX9TyP7SmlcqQMBtvm5J73D6FuR",
      "include_colab_link": true
    },
    "kernelspec": {
      "name": "python3",
      "display_name": "Python 3"
    },
    "language_info": {
      "name": "python"
    }
  },
  "cells": [
    {
      "cell_type": "markdown",
      "metadata": {
        "id": "view-in-github",
        "colab_type": "text"
      },
      "source": [
        "<a href=\"https://colab.research.google.com/github/Onoruoiza514/Task-reading-project-/blob/main/main_py.ipynb\" target=\"_parent\"><img src=\"https://colab.research.google.com/assets/colab-badge.svg\" alt=\"Open In Colab\"/></a>"
      ]
    },
    {
      "cell_type": "code",
      "source": [
        "import pandas as pd\n",
        "\n",
        "from google.colab import drive\n",
        "drive.mount(\"/content/drive\")\n",
        "\n",
        "file_path = \"/content/drive/MyDrive/tasks.csv\"\n",
        "#tasks = pd.read_csv(file_path)\n",
        "#tasks.head()"
      ],
      "metadata": {
        "colab": {
          "base_uri": "https://localhost:8080/"
        },
        "id": "0HskgTI_oMXt",
        "outputId": "032ab0a8-9782-465c-cfdf-59793c469972"
      },
      "execution_count": null,
      "outputs": [
        {
          "output_type": "stream",
          "name": "stdout",
          "text": [
            "Drive already mounted at /content/drive; to attempt to forcibly remount, call drive.mount(\"/content/drive\", force_remount=True).\n"
          ]
        }
      ]
    },
    {
      "cell_type": "code",
      "source": [
        "import pandas as pd\n",
        "from datetime import datetime, timedelta\n",
        "\n",
        "#Lets create a module to handle all our stuffs\n",
        "\n",
        "class TaskManager:\n",
        "    def __init__(self , csv_file):\n",
        "        self.csv_file = tasks\n",
        "        #self.tasks = pd.read_csv(self.csv_file)\n",
        "        self.csv_file[\"Deadline\"] = pd.to_datetime(self.csv_file[\"Deadline\"])\n",
        "        self.csv_file[\"Status\"] = \"Pending\"\n",
        "\n",
        "\n",
        "    def Add_tasks(self, task_name, deadline , email, status=\"Pending\"):\n",
        "        \"\"\"add a new task to the list using this function\"\"\"\n",
        "        new_task = {\n",
        "                        \"Task Name\" : task_name,\n",
        "                        \"Deadline\" : deadline,\n",
        "                        \"Email\" : email,\n",
        "                        \"Status\" : status\n",
        "                        }\n",
        "        self.csv_file = pd.concat([self.csv_file,pd.DataFrame([new_task])],ignore_index=True)\n",
        "        #self.csv_file.to_csv(self.csv_file , index = False)\n",
        "        #self.save_task()\n",
        "        print(f\"Task '{task_name}' added successfully!\")\n",
        "\n",
        "\n",
        "    def get_due_tasks(self):\n",
        "        \"\"\"Get a list of tasks that are due or overdue \"\"\"\n",
        "        now = datetime.now()\n",
        "        due_tasks = self.csv_file[(self.csv_file[\"Deadline\"] <= now) & (self.csv_file[\"Status\"] == \"Pending\")]\n",
        "        return due_tasks\n",
        "\n",
        "\n",
        "    def mark_tasks_as_done(self,task_name):\n",
        "         \"\"\"Mark a task as complete\"\"\"\n",
        "         task_index = self.csv_file[self.csv_file[\"Task Name\"] == task_name].index\n",
        "         if not task_index.empty:\n",
        "             self.csv_file.loc[task_index, \"Status\"] = \"Done\"\n",
        "             #self.save_tasks()\n",
        "             print(f\"Task '{task_name}' marked as done!\")\n",
        "         else:\n",
        "             print(f\"Task '{task_name}' not found!\")\n",
        "\n",
        "\n",
        "    def delete_task(self):\n",
        "        \"\"\"Delete a task that is done from the list of tasks\"\"\"\n",
        "        if \"Done\" in self.tasks[\"Status\"].values:\n",
        "            self.tasks.drop(self.tasks[self.tasks[\"Status\"] == \"Done\"].index,inplace= True)\n",
        "            self.save_tasks()\n",
        "            print(\"Done tasks deleted successfully!\")\n",
        "        else:\n",
        "            print(\"No done task found\")\n",
        "\n",
        "\n",
        "    def save_tasks(self):\n",
        "        \"\"\"Save the updated tasks back to the to-do list\"\"\"\n",
        "        self.tasks.to_csv(self.csv_file, index=False)\n",
        "        print(\"Tasks saved successfully\")\n",
        "\n",
        "    def display_tasks(self):\n",
        "        \"\"\"Display all tasks in the to-do list\"\"\"\n",
        "        print(self.csv_file)\n",
        "\n",
        "\n",
        "#So all our functions are completely created, remaining to be usedh\n",
        "\n",
        "if __name__ == \"__main__\":\n",
        "    task_manager = TaskManager(tasks)\n",
        "    task_manager.display_tasks()\n",
        "\n",
        "\n",
        "    #Now lets try adding a task to our to do list\n",
        "    task_manager.Add_tasks(task_name = \"Attend Religious services\" , deadline = (datetime.now() + timedelta(hours = 5)).strftime(\"%Y-%m-%d %H:%M\"), email = \"blahblahblah@gmail.com\" )\n",
        "\n",
        "    task_manager.display_tasks()\n",
        "\n",
        "    task_manager.mark_tasks_as_done(\"Submit Assignment\")\n",
        "\n",
        "    task_manager.display_tasks()"
      ],
      "metadata": {
        "id": "4TZkkiu6MUVK",
        "colab": {
          "base_uri": "https://localhost:8080/"
        },
        "outputId": "f3b32c42-c8e6-4965-a25c-d75991178254"
      },
      "execution_count": 47,
      "outputs": [
        {
          "output_type": "stream",
          "name": "stdout",
          "text": [
            "              Task Name            Deadline                        Email  \\\n",
            "0     Submit Assignment 2024-12-15 19:10:00     ahmadtijani735@gmail.com   \n",
            "1    Renew Subscription 2024-12-15 22:10:00    nomanazmarlianz@gmail.com   \n",
            "2  Prepare Presentation 2024-12-16 17:10:00  abdulonoruoiza410@gmail.com   \n",
            "3  Pay Electricity Bill 2024-12-17 17:10:00    tijanijelilat56@gmail.com   \n",
            "\n",
            "    Status  \n",
            "0  Pending  \n",
            "1  Pending  \n",
            "2  Pending  \n",
            "3  Pending  \n",
            "Task 'Attend Religious services' added successfully!\n",
            "                   Task Name             Deadline  \\\n",
            "0          Submit Assignment  2024-12-15 19:10:00   \n",
            "1         Renew Subscription  2024-12-15 22:10:00   \n",
            "2       Prepare Presentation  2024-12-16 17:10:00   \n",
            "3       Pay Electricity Bill  2024-12-17 17:10:00   \n",
            "4  Attend Religious services     2024-12-16 04:18   \n",
            "\n",
            "                         Email   Status  \n",
            "0     ahmadtijani735@gmail.com  Pending  \n",
            "1    nomanazmarlianz@gmail.com  Pending  \n",
            "2  abdulonoruoiza410@gmail.com  Pending  \n",
            "3    tijanijelilat56@gmail.com  Pending  \n",
            "4       blahblahblah@gmail.com  Pending  \n",
            "Task 'Submit Assignment' marked as done!\n",
            "                   Task Name             Deadline  \\\n",
            "0          Submit Assignment  2024-12-15 19:10:00   \n",
            "1         Renew Subscription  2024-12-15 22:10:00   \n",
            "2       Prepare Presentation  2024-12-16 17:10:00   \n",
            "3       Pay Electricity Bill  2024-12-17 17:10:00   \n",
            "4  Attend Religious services     2024-12-16 04:18   \n",
            "\n",
            "                         Email   Status  \n",
            "0     ahmadtijani735@gmail.com     Done  \n",
            "1    nomanazmarlianz@gmail.com  Pending  \n",
            "2  abdulonoruoiza410@gmail.com  Pending  \n",
            "3    tijanijelilat56@gmail.com  Pending  \n",
            "4       blahblahblah@gmail.com  Pending  \n"
          ]
        }
      ]
    }
  ]
}